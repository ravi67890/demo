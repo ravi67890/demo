{
 "cells": [
  {
   "cell_type": "markdown",
   "id": "1b619647-d8ec-487e-886d-f8e2d46c3f52",
   "metadata": {},
   "source": [
    "Q1. Create one variable containing following type of data:\n",
    "(i) string\n",
    "(ii) list\n",
    "(iii) float\n",
    "(iv) tuple"
   ]
  },
  {
   "cell_type": "code",
   "execution_count": 3,
   "id": "0b81caa5-152f-4721-80a7-9433ae124a0e",
   "metadata": {},
   "outputs": [],
   "source": [
    "all_type_val = ['A', [1, 2, 3], 1.5, (4, 6, 8)]"
   ]
  },
  {
   "cell_type": "markdown",
   "id": "df463cb0-a77f-4f20-910d-ce23e9e376ed",
   "metadata": {},
   "source": [
    "Q2. Given are some following variables containing data:\n",
    "(i) var1 = ‘ ‘\n",
    "(ii) var2 = ‘[ DS , ML , Python]’\n",
    "(iii) var3 = [ ‘DS’ , ’ML’ , ‘Python’ ]\n",
    "(iv) var4 = 1."
   ]
  },
  {
   "cell_type": "markdown",
   "id": "489685f8-3248-4513-8ac3-0ad7d0a54ae4",
   "metadata": {},
   "source": [
    "var1 = string, var2 = string, var3 = list, var4 = float"
   ]
  },
  {
   "cell_type": "markdown",
   "id": "dcd558f9-6c3c-4923-955d-26d4f6f1f17b",
   "metadata": {},
   "source": [
    "Q3. Explain the use of the following operators using an example:\n",
    "(i) /\n",
    "(ii) %\n",
    "(iii) //\n",
    "(iv) **"
   ]
  },
  {
   "cell_type": "code",
   "execution_count": 4,
   "id": "8b057d8f-a26e-4894-b150-17f3b9d8a2a9",
   "metadata": {},
   "outputs": [],
   "source": [
    "a = 7\n",
    "b = 3"
   ]
  },
  {
   "cell_type": "code",
   "execution_count": 5,
   "id": "f1f126cb-5f48-4690-9b71-4e0256d447ec",
   "metadata": {},
   "outputs": [
    {
     "data": {
      "text/plain": [
       "2.3333333333333335"
      ]
     },
     "execution_count": 5,
     "metadata": {},
     "output_type": "execute_result"
    }
   ],
   "source": [
    "a/b"
   ]
  },
  {
   "cell_type": "code",
   "execution_count": 6,
   "id": "8c49ddba-888c-4c65-8f04-ba6c1d0337ca",
   "metadata": {},
   "outputs": [
    {
     "data": {
      "text/plain": [
       "1"
      ]
     },
     "execution_count": 6,
     "metadata": {},
     "output_type": "execute_result"
    }
   ],
   "source": [
    "a%b"
   ]
  },
  {
   "cell_type": "code",
   "execution_count": 7,
   "id": "d7ccc35d-1580-4382-a2e9-01bdbd8b4931",
   "metadata": {},
   "outputs": [
    {
     "data": {
      "text/plain": [
       "2"
      ]
     },
     "execution_count": 7,
     "metadata": {},
     "output_type": "execute_result"
    }
   ],
   "source": [
    "a//b"
   ]
  },
  {
   "cell_type": "markdown",
   "id": "0e2a679a-ff85-4690-bd3a-757c79f71cf6",
   "metadata": {},
   "source": [
    "i> / -> gives decimal value, (ii)% -> gives remainder value (iii)// -> gives integer part"
   ]
  },
  {
   "cell_type": "markdown",
   "id": "6fd4e15e-27fb-4250-86f1-b3c6365b93e1",
   "metadata": {},
   "source": [
    "Q4. Create a list of length 10 of your choice containing multiple types of data. Using for loop print the\n",
    "element and its data type."
   ]
  },
  {
   "cell_type": "code",
   "execution_count": 8,
   "id": "2f20ccf8-9787-452b-bb5b-22464103abbf",
   "metadata": {},
   "outputs": [
    {
     "name": "stdout",
     "output_type": "stream",
     "text": [
      "<class 'int'>\n",
      "<class 'int'>\n",
      "<class 'float'>\n",
      "<class 'bool'>\n",
      "<class 'complex'>\n",
      "<class 'str'>\n",
      "<class 'list'>\n",
      "<class 'str'>\n",
      "<class 'bool'>\n",
      "<class 'int'>\n"
     ]
    }
   ],
   "source": [
    "l2 = [1, 2, 4.5, True, 1+4j,'S', [1,2,3], 'A', False, -12]\n",
    "for i in l2:\n",
    "    print(type(i))"
   ]
  },
  {
   "cell_type": "markdown",
   "id": "fb90b306-af51-4597-a7b7-90ffc8a49ec3",
   "metadata": {},
   "source": [
    "Q5. Using a while loop, verify if the number A is purely divisible by number B and if so then how many\n",
    "times it can be divisible."
   ]
  },
  {
   "cell_type": "code",
   "execution_count": 11,
   "id": "00dd9dc3-5a58-4b6a-8ee5-843f05305db8",
   "metadata": {},
   "outputs": [
    {
     "name": "stdout",
     "output_type": "stream",
     "text": [
      "1\n",
      "2\n",
      "3\n",
      "4\n",
      "6\n",
      "12\n"
     ]
    }
   ],
   "source": [
    "a = 12\n",
    "b = 1\n",
    "while b<=a:\n",
    "    if a%b==0:\n",
    "        print(b)\n",
    "    b = b+1\n"
   ]
  },
  {
   "cell_type": "markdown",
   "id": "4f7d0420-78dc-4e5c-82fb-b1086506bfa4",
   "metadata": {},
   "source": [
    "Q6. Create a list containing 25 int type data. Using for loop and if-else condition print if the element is\n",
    "divisible by 3 or not."
   ]
  },
  {
   "cell_type": "code",
   "execution_count": 12,
   "id": "642d648d-3bf7-4763-9b49-be52d904c08d",
   "metadata": {},
   "outputs": [
    {
     "name": "stdin",
     "output_type": "stream",
     "text": [
      "enter first no.. 1\n",
      "enter second no.. 12\n"
     ]
    },
    {
     "name": "stdout",
     "output_type": "stream",
     "text": [
      "not divisible by 3 1\n",
      "not divisible by 3 2\n",
      "no is divisible by 3 3\n",
      "not divisible by 3 4\n",
      "not divisible by 3 5\n",
      "no is divisible by 3 6\n",
      "not divisible by 3 7\n",
      "not divisible by 3 8\n",
      "no is divisible by 3 9\n",
      "not divisible by 3 10\n",
      "not divisible by 3 11\n"
     ]
    }
   ],
   "source": [
    "first_no = int(input('enter first no..'))\n",
    "second_no = int(input('enter second no..'))\n",
    "for i in range(first_no, second_no):\n",
    "    if i % 3 == 0:\n",
    "        print('no is divisible by 3', i)\n",
    "    else:\n",
    "        print('not divisible by 3', i)\n",
    "\n"
   ]
  },
  {
   "cell_type": "markdown",
   "id": "7edb7f73-ae85-4204-8633-d15682c7834c",
   "metadata": {},
   "source": [
    "Q7. What do you understand about mutable and immutable data types? Give examples for both showing\n",
    "this property."
   ]
  },
  {
   "cell_type": "markdown",
   "id": "a6c6eda7-f517-41f3-9a00-1ae192ff45ef",
   "metadata": {},
   "source": []
  }
 ],
 "metadata": {
  "kernelspec": {
   "display_name": "Python 3 (ipykernel)",
   "language": "python",
   "name": "python3"
  },
  "language_info": {
   "codemirror_mode": {
    "name": "ipython",
    "version": 3
   },
   "file_extension": ".py",
   "mimetype": "text/x-python",
   "name": "python",
   "nbconvert_exporter": "python",
   "pygments_lexer": "ipython3",
   "version": "3.10.8"
  }
 },
 "nbformat": 4,
 "nbformat_minor": 5
}
